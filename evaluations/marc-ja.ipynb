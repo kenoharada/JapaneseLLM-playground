{
 "cells": [
  {
   "cell_type": "code",
   "execution_count": 1,
   "metadata": {},
   "outputs": [
    {
     "name": "stdout",
     "output_type": "stream",
     "text": [
      "{\"sentence\": \"以前職場の方にこれをみて少しでも元氣になってくださいと手渡して、早３年。返してくれと一度言ったが、結局返ってこなかった。６年前にも、職場の（といっても海外ですが）英語の先生に貸したら、これは素晴らしい！と言って、授業でも何度も生徒に見せたり、家でも見てたりしたそうで、結局帰国までに返してもらえなかった。。。この作品、結局３回購入してます。とほほでありつつ、誰かの心の支えになってくれればと願いつつ。エンディングの曲も好きです。あー、自分も突き進む人生を歩みたい。結婚もしたいが。。。\", \"label\": \"positive\", \"review_id\": \"R2H83XHJUDZBHT\"}\n",
      "{\"sentence\": \"ジュリアロバーツを初めて見たのがこの作品だったということは良かったのか悪かったのかわからない。だってアメリカの有名女優という役だったから、そういう先入観で見た方がおもしろかったかも。でもイギリスのポートベローやロンドンの街並み、人々の暮らしがちりばめられていてとてもゆったりとした雰囲気。彼はちょっとダサく、でもやさしいフツーの人なのだ。（ハンサムと言うことをのぞけばね）二人や友人達の会話は要チェック。私なんぞ対訳のシナリオを買っちゃって勉強した。挿入歌がこれまたいいし。ぜひ見てね。\", \"label\": \"positive\", \"review_id\": \"R3FRTU63ITKFKB\"}\n",
      "{\"sentence\": \"私はカントリーが好きで当初CDを購入していいなと思ったのです、映画はそれなりのストーリー、まずまずです\", \"label\": \"positive\", \"review_id\": \"R1IRCR6D1WWM4B\"}\n"
     ]
    }
   ],
   "source": [
    "!head -n 3 datasets/marc_ja-v1.1/train-v1.0.json"
   ]
  },
  {
   "cell_type": "code",
   "execution_count": 2,
   "metadata": {},
   "outputs": [
    {
     "name": "stdout",
     "output_type": "stream",
     "text": [
      "{\"sentence\": \"購入するほどのものではなかったように思います。レンタルで見ましたが、「聖なる予言」の復習は出来ました。本がよく売れていたのは、10年前ほど前だったでしょうか。その後、オウム真理教の事件などで急に売れなくなった本でもありました。「ヤングスーパーマン」の主人公にとてもよく似た俳優が主人公だったので、私にとっては運命的で必然のＤＶＤであったと感じています。「聖なる予言」の本の内容の復習には最適でした。\", \"label\": \"positive\", \"review_id\": \"R2MV62E8RAJ4X8\"}\n",
      "{\"sentence\": \"　特典ディスクが付いているので買いだと思います。僕の持ってるDVDは一枚組ですけど特典映像で「メイキング(ヴィヴィアン・キューブリックによる音声解説)」が付いているので満足しています。このDVDにも付いているようです。撮影の舞台裏が見れるし主演のジャック・ニコルソン、妻を演じたシェリー・デュヴァル、息子役のダニー・ロイドのインタビューや撮影時の様子なんかを見ることができる貴重な映像だと思います。さらに他の特典も付いていて音声もポルトガル語が加わっているので羨ましい限りです(吹き替えの日本語が入っていないのが不思議)。　肝心な映画の内容は恐怖の一言。最愛の家族に襲われるという物語は恐怖の原点にあるように感じられます。そして決して揺れないカメラワークでその恐怖を静かにあぶり出し、画面を引き裂くような音楽で爆発させる。さらに出演者たちの演技力の高さ。襲う側、襲われる側ともに１２０％と呼べる見事な演技。ジャック・ニコルソンの奇怪な演技は言うまでもなくシェリー・デュバルも襲われる恐怖をスクリーンに克明に映し出していました。ホラー映画として決して色あせない名作だと思います。\", \"label\": \"positive\", \"review_id\": \"R24S7IQZ4ICJMG\"}\n",
      "{\"sentence\": \"素晴らしいカードです。エジプト、ユダヤ、カバラ、キリスト教……といった文化の融合から生まれてきた通常のタロットカードは、おのずと記号や数字の意味などもその世界観に由来します。こちらは、同じ数や同じ記号をモチーフにしつつも、解釈が仏教的、つまり、ある現象を陰にも陽にも転ずるのはその人次第である……という点が、オリジナルのタロットの持つ強迫感を取り払い、泰然自若としたリーディングを可能とします。そもそも私がこのカードを知ったのはキリスト教徒のイギリス人たちからでしたが、生まれたときから東洋的思想下で育ってきた私にとっては最初からなじみ深く、手になじんで10年となります。カードが示した象徴をどう解釈するかが、自分自身のインサイトそのものであり、占いの本質であると思います。深い事象の流れを知りたいときは、必ず手にするカードです。\", \"label\": \"positive\", \"review_id\": \"RRY8KZHSDWMYL\"}\n"
     ]
    }
   ],
   "source": [
    "!head -n 3 datasets/marc_ja-v1.1/valid-v1.0.json"
   ]
  },
  {
   "cell_type": "code",
   "execution_count": 3,
   "metadata": {},
   "outputs": [],
   "source": [
    "import json\n",
    "with open('datasets/marc_ja-v1.1/train-v1.0.json', 'r') as f:\n",
    "    # 各行を個別に読み取る\n",
    "    train_data = []\n",
    "    for line in f:\n",
    "        data = json.loads(line)  # 各行を辞書として読み込む\n",
    "        train_data.append(data)\n",
    "with open('datasets/marc_ja-v1.1/valid-v1.0.json', 'r') as f:\n",
    "    # 各行を個別に読み取る\n",
    "    valid_data = []\n",
    "    for line in f:\n",
    "        data = json.loads(line)  # 各行を辞書として読み込む\n",
    "        valid_data.append(data)\n"
   ]
  },
  {
   "cell_type": "code",
   "execution_count": 4,
   "metadata": {},
   "outputs": [
    {
     "data": {
      "text/plain": [
       "{'sentence': '購入するほどのものではなかったように思います。レンタルで見ましたが、「聖なる予言」の復習は出来ました。本がよく売れていたのは、10年前ほど前だったでしょうか。その後、オウム真理教の事件などで急に売れなくなった本でもありました。「ヤングスーパーマン」の主人公にとてもよく似た俳優が主人公だったので、私にとっては運命的で必然のＤＶＤであったと感じています。「聖なる予言」の本の内容の復習には最適でした。',\n",
       " 'label': 'positive',\n",
       " 'review_id': 'R2MV62E8RAJ4X8'}"
      ]
     },
     "execution_count": 4,
     "metadata": {},
     "output_type": "execute_result"
    }
   ],
   "source": [
    "valid_data[0]"
   ]
  },
  {
   "cell_type": "code",
   "execution_count": 5,
   "metadata": {},
   "outputs": [
    {
     "name": "stdout",
     "output_type": "stream",
     "text": [
      "購入するほどのものではなかったように思います。レンタルで見ましたが、「聖なる予言」の復習は出来ました。本がよく売れていたのは、10年前ほど前だったでしょうか。その後、オウム真理教の事件などで急に売れなくなった本でもありました。「ヤングスーパーマン」の主人公にとてもよく似た俳優が主人公だったので、私にとっては運命的で必然のＤＶＤであったと感じています。「聖なる予言」の本の内容の復習には最適でした。\n",
      "Q: For the sentence: \"購入するほどのものではなかったように思います。レンタルで見ましたが、「聖なる予言」の復習は出来ました。本がよく売れていたのは、10年前ほど前だったでしょうか。その後、オウム真理教の事件などで急に売れなくなった本でもありました。「ヤングスーパーマン」の主人公にとてもよく似た俳優が主人公だったので、私にとっては運命的で必然のＤＶＤであったと感じています。「聖なる予言」の本の内容の復習には最適でした。\", is the sentiment in this sentence positive or negative? A: The answer (positive or negative) is:\n",
      "prediction:  neutral.\n",
      "truth:  positive\n",
      "製品レビューをnegativeかpositiveのいずれかのセンチメントに分類してください。出力は小文字化してください。製品レビュー: 購入するほどのものではなかったように思います。レンタルで見ましたが、「聖なる予言」の復習は出来ました。本がよく売れていたのは、10年前ほど前だったでしょうか。その後、オウム真理教の事件などで急に売れなくなった本でもありました。「ヤングスーパーマン」の主人公にとてもよく似た俳優が主人公だったので、私にとっては運命的で必然のＤＶＤであったと感じています。「聖なる予言」の本の内容の復習には最適でした。 センチメント:  \n",
      "prediction:  negative\n",
      "truth:  positive\n",
      "Your task is classifying the sentiment of the sentence. The sentiment is either positive or negative. \n",
      "Use the following format.\n",
      "Sentence: \n",
      "```\n",
      "sentence here\n",
      "```\n",
      "Sentiment:\n",
      "```\n",
      "positive or negative\n",
      "```\n",
      "\n",
      "Sentence: \n",
      "```\n",
      "購入するほどのものではなかったように思います。レンタルで見ましたが、「聖なる予言」の復習は出来ました。本がよく売れていたのは、10年前ほど前だったでしょうか。その後、オウム真理教の事件などで急に売れなくなった本でもありました。「ヤングスーパーマン」の主人公にとてもよく似た俳優が主人公だったので、私にとっては運命的で必然のＤＶＤであったと感じています。「聖なる予言」の本の内容の復習には最適でした。\n",
      "```\n",
      "Sentiment:\n",
      "    \n",
      "prediction:  negative\n",
      "truth:  positive\n",
      "##################################\n"
     ]
    }
   ],
   "source": [
    "import openai\n",
    "limit = 1\n",
    "for data in valid_data[:limit]:\n",
    "    print(data[\"sentence\"])\n",
    "\n",
    "    # https://arxiv.org/abs/2302.10198\n",
    "    prompt = f'Q: For the sentence: \"{data[\"sentence\"]}\", is the sentiment in this sentence positive or negative? A: The answer (positive or negative) is:'\n",
    "    response = openai.ChatCompletion.create(\n",
    "                model=\"gpt-3.5-turbo\",\n",
    "                messages=[\n",
    "                    {\"role\": \"user\", \"content\": prompt},\n",
    "                    ],\n",
    "                temperature=0,\n",
    "            )['choices'][0]['message']['content']\n",
    "    print(prompt)\n",
    "    print('prediction: ',response)\n",
    "    print('truth: ', data['label'])\n",
    "\n",
    "    # https://fintan.jp/page/9126/\n",
    "    prompt = f'製品レビューをnegativeかpositiveのいずれかのセンチメントに分類してください。出力は小文字化してください。製品レビュー: {data[\"sentence\"]} センチメント:  '\n",
    "    response = openai.ChatCompletion.create(\n",
    "                model=\"gpt-3.5-turbo\",\n",
    "                messages=[\n",
    "                    {\"role\": \"user\", \"content\": prompt},\n",
    "                    ],\n",
    "                temperature=0,\n",
    "            )['choices'][0]['message']['content']\n",
    "    print(prompt)\n",
    "    print('prediction: ',response)\n",
    "    print('truth: ', data['label'])\n",
    "\n",
    "    # https://www.deeplearning.ai/short-courses/chatgpt-prompt-engineering-for-developers/\n",
    "    prompt = f\"\"\"Your task is classifying the sentiment of the sentence. The sentiment is either positive or negative. \n",
    "Use the following format.\n",
    "Sentence: \n",
    "```\n",
    "sentence here\n",
    "```\n",
    "Sentiment:\n",
    "```\n",
    "positive or negative\n",
    "```\n",
    "\n",
    "Sentence: \n",
    "```\n",
    "{data[\"sentence\"]}\n",
    "```\n",
    "Sentiment:\n",
    "    \"\"\"\n",
    "    response = openai.ChatCompletion.create(\n",
    "                model=\"gpt-3.5-turbo\",\n",
    "                messages=[\n",
    "                    {\"role\": \"user\", \"content\": prompt},\n",
    "                    ],\n",
    "                temperature=0,\n",
    "            )['choices'][0]['message']['content']\n",
    "    print(prompt)\n",
    "    print('prediction: ',response)\n",
    "    print('truth: ', data['label'])\n",
    "\n",
    "\n",
    "\n",
    "    print(\"##################################\")"
   ]
  },
  {
   "cell_type": "code",
   "execution_count": 6,
   "metadata": {},
   "outputs": [
    {
     "name": "stdout",
     "output_type": "stream",
     "text": [
      "[{'sentence': '購入するほどのものではなかったように思います。レンタルで見ましたが、「聖なる予言」の復習は出来ました。本がよく売れていたのは、10年前ほど前だったでしょうか。その後、オウム真理教の事件などで急に売れなくなった本でもありました。「ヤングスーパーマン」の主人公にとてもよく似た俳優が主人公だったので、私にとっては運命的で必然のＤＶＤであったと感じています。「聖なる予言」の本の内容の復習には最適でした。', 'label': 'positive', 'review_id': 'R2MV62E8RAJ4X8', 'ChatGPT-3.5-Turbo_Zhong': 'neutral.', 'ChatGPT-3.5-Turbo_fintan': 'negative', 'ChatGPT-3.5-Turbo_andrew': 'negative', 'open-calm-7b_Zhong': ' \"I read the book which was on the rental but I was not able to remember the book which was on the sale. I read the book which was on the sale but I was not able to remember the book which was on the sale. I read the book which was on the sale but I was not able to remember the book which was on the sale. I read the book which was on the sale but I was not able to remember the book which was on the sale. I read the book which was on the sale but I was not able to remember the book which was on the sale. I read the book which was on the sale but I was not able to remember the book which was on the sale. I read the book which was on the sale but I was not able to remember the book which was on the sale. I read the book which was on the sale but I was not able to remember the book which was on the sale. I read the book which was on the sale but I was not able to remember the book which was on the sale. I read the book which was on the sale but I was not able to remember the book which was on the sale. I read the book which was on the sale but I was not able to remember the book which was on the sale. I read the book which was on the sale but I was not able to remember the book which was on the sale. I read the book which was on the sale but I was not able to remember the book which was on the sale. I read the book which was on the sale but I was not able to remember the book which was on the sale. I read the book which was on the sale but I was not able to remember the book which was on the sale. I read the book which was on the sale but I was not able to remember the book which was on the sale. I read the book which was on the sale but I was not able to remember the book which was on the sale. I', 'open-calm-7b_fintan': ' ★★★★☆  内容:   ★★★★☆  内容:   ★★★★☆  内容:   ★★★★☆  内容:   ★★★★☆  内容:   ★★★★☆  内容:   ★★★★☆  内容:   ★★★★☆  内容:   ★★★★☆  内容:   ★★★★☆  内容:   ★★★★☆  内容:   ★★★★☆  内容:   ★★★★☆  内容:   ★★★★☆  内容:   ★★★★☆  内容:   ★★★★☆  内容:   ★★★★☆  内容:   ★★★★☆  内容:   ★★★★☆  内容:   ★★★★☆  内容:   ★★★★☆  内容:   ★★★★☆  内容:   ★★★★☆  内容:   ★★★★☆  内容:   ★★★★☆  内容:   ★★★★☆  内容:   ★★★★☆  内容:   ★★★★☆  内容:   ★★★★☆  内容:   ★★★★☆  内容:   ★★★★☆  内容:   ★★★★☆  内容:   ★★★★☆  内容:   ★★★★☆  内容:   ★★★★☆  内容:   ★★★★☆  内容:   ★★★★☆  内容:   ★★★★☆  内容:   ★★★★☆  内容:   ★★★★☆  内容:   ★★★★☆  内容:   ★★★★☆  内容:   ★★★★☆  内容:   ★★★★☆  内容:   ★★★★☆  内容:   ★★★★☆  内容:   ★★★★☆  内容:   ★★★★☆  内容:   ★★★★☆  内容:   ★★★★☆  内容:   ★★★★☆  内容:   ★★★★☆  内容:   ★★★★☆  内容:   ★★★★☆  内容:   ★★★★☆  内容:   ★★★★☆  内容:   ★★★★☆  内容:   ★★★★☆  内容:   ★★★★☆  内容:   ★★★★☆  内容:   ★★★★☆  内容:   ★★★★☆  内容:   ★★★★☆  内容:   ★★★★☆  内容:  ', 'open-calm-7b_andrew': ' ```\\npositive or negative\\n```\\nSentiment:\\n```\\npositive or negative\\n```\\nSentiment:\\n```\\npositive or negative\\n```\\nSentiment:\\n```\\npositive or negative\\n```\\nSentiment:\\n```\\npositive or negative\\n```\\nSentiment:\\n```\\npositive or negative\\n```\\nSentiment:\\n```\\npositive or negative\\n```\\nSentiment:\\n```\\npositive or negative\\n```\\nSentiment:\\n```\\npositive or negative\\n```\\nSentiment:\\n```\\npositive or negative\\n```\\nSentiment:\\n```\\npositive or negative\\n```\\nSentiment:\\n```\\npositive or negative\\n```\\nSentiment:\\n```\\npositive or negative\\n```\\nSentiment:\\n```\\npositive or negative\\n```\\nSentiment:\\n```\\npositive or negative\\n```\\nSentiment:\\n```\\npositive or negative\\n```\\nSentiment:\\n```\\npositive or negative\\n```\\nSentiment:\\n```\\npositive or negative\\n```\\nSentiment:\\n```\\npositive or negative\\n```\\nSentiment:\\n```\\npositive or negative\\n```\\nSentiment:\\n```\\npositive or negative\\n```\\nSentiment:\\n```\\npositive or negative\\n```\\nSentiment:\\n```\\npositive or negative\\n```\\nSentiment:\\n```\\npositive or negative\\n```\\nSentiment:\\n```\\npositive or n', 'rinna-japanese-gpt-neox-3.6b_Zhong': ' an answer an answer an answer an answer an answer an answer an answer an answer an answer an answer an answer an answer an answer an answer an answer an answer an answer an answer an answer an answer an answer an answer an answer an answer an answer an answer an answer an answer an answer an answer an answer an answer an answer an answer an answer an answer an answer an answer an answer an answer an answer an answer an answer an answer an answer an answer an answer an answer an answer an answer an answer an answer an answer an answer an answer an answer an answer an answer an answer an answer an answer an answer an answer an answer an answer an answer an answer an answer an answer an answer an answer an answer an answer an answer an answer an answer an answer an answer an answer an answer an answer an answer an answer an answer an answer an answer an answer an answer an answer an answer an answer an answer an answer an answer an answer an answer an answer an answer an answer an answer an answer an answer an', 'rinna-japanese-gpt-neox-3.6b_fintan': '@ このDVDは、ヤングスーパーマンの復習には最適でした。ヤングスーパーマンのシーズン1のDVDは、レンタルで見ましたが、このDVDは、シーズン2のDVDでした。シーズン2のDVDは、レンタルで見ましたが、このDVDは、シーズン3のDVDでした。シーズン3のDVDは、レンタルで見ましたが、このDVDは、シーズン4のDVDでした。シーズン4のDVDは、レンタルで見ましたが、このDVDは、シーズン5のDVDでした。シーズン5のDVDは、レンタルで見ましたが、このDVDは、シーズン6のDVDでした。シーズン6のDVDは、レンタルで見ましたが、このDVDは、シーズン7のDVDでした。シーズン7のDVDは、レンタルで見ましたが、このDVDは、シーズン8のDVDでした。シーズン8のDVDは、レンタルで見ましたが、このDVDは、シーズン9のDVDでした。シーズン9のDVDは、レンタルで見ましたが、このDVDは、シーズン10のDVDでした。シーズン10のDVDは、レンタルで見ましたが、このDVDは、シーズン11のDVDでした。シーズン11のDVDは、レンタルで見ましたが、このDVDは、シーズン12のDVDでした。シーズン12のDVDは、レンタルで見ましたが、このDVDは、シーズン13のDVDでした。シーズン13のDVDは、レンタルで見ましたが、このDVDは、シーズン14のDVDでした。シーズン14のDVDは、レンタルで見ましたが、このDVDは、シーズン15のDVDでした。シーズン15のDVDは、レンタルで見ましたが、このDVDは、シーズン16のDVDでした。シーズン16のDVDは、レンタルで見ましたが、このDVDは、シーズン17のDVDでした。シーズン17のDVDは、レンタルで見ましたが、このDVDは、シーズン18のDVDでした。シーズン18のDVDは、レンタルで見ましたが、このDVDは、シーズン19のDVDでした。シーズン19のDVDは、レンタルで見ましたが、このDVDは、シーズン20のDVDでした。シーズン20のDVDは、レンタルで見ましたが、このDVDは、シーズン21のDVDでした。シーズン21のDVDは、レンタルで見ましたが、このDVDは、シーズン22のDVDでした。シーズン22のDVDは、レンタルで', 'rinna-japanese-gpt-neox-3.6b_andrew': '', 'rinna-japanese-gpt-neox-3.6b-instruction-sft_Zhong': 'positive</s>', 'rinna-japanese-gpt-neox-3.6b-instruction-sft_fintan': 'ネガティブ</s>', 'rinna-japanese-gpt-neox-3.6b-instruction-sft_andrew': 'ポジティブ</s>'}, {'sentence': '\\u3000特典ディスクが付いているので買いだと思います。僕の持ってるDVDは一枚組ですけど特典映像で「メイキング(ヴィヴィアン・キューブリックによる音声解説)」が付いているので満足しています。このDVDにも付いているようです。撮影の舞台裏が見れるし主演のジャック・ニコルソン、妻を演じたシェリー・デュヴァル、息子役のダニー・ロイドのインタビューや撮影時の様子なんかを見ることができる貴重な映像だと思います。さらに他の特典も付いていて音声もポルトガル語が加わっているので羨ましい限りです(吹き替えの日本語が入っていないのが不思議)。\\u3000肝心な映画の内容は恐怖の一言。最愛の家族に襲われるという物語は恐怖の原点にあるように感じられます。そして決して揺れないカメラワークでその恐怖を静かにあぶり出し、画面を引き裂くような音楽で爆発させる。さらに出演者たちの演技力の高さ。襲う側、襲われる側ともに１２０％と呼べる見事な演技。ジャック・ニコルソンの奇怪な演技は言うまでもなくシェリー・デュバルも襲われる恐怖をスクリーンに克明に映し出していました。ホラー映画として決して色あせない名作だと思います。', 'label': 'positive', 'review_id': 'R24S7IQZ4ICJMG', 'ChatGPT-3.5-Turbo_Zhong': 'positive.', 'ChatGPT-3.5-Turbo_fintan': 'positive', 'ChatGPT-3.5-Turbo_andrew': 'positive', 'open-calm-7b_Zhong': ' \" I recommend you to buy this DVD. I recommend you to buy this DVD. I recommend you to buy this DVD. I recommend you to buy this DVD. I recommend you to buy this DVD. I recommend you to buy this DVD. I recommend you to buy this DVD. I recommend you to buy this DVD. I recommend you to buy this DVD. I recommend you to buy this DVD. I recommend you to buy this DVD. I recommend you to buy this DVD. I recommend you to buy this DVD. I recommend you to buy this DVD. I recommend you to buy this DVD. I recommend you to buy this DVD. I recommend you to buy this DVD. I recommend you to buy this DVD. I recommend you to buy this DVD. I recommend you to buy this DVD. I recommend you to buy this DVD. I recommend you to buy this DVD. I recommend you to buy this DVD. I recommend you to buy this DVD. I recommend you to buy this DVD. I recommend you to buy this DVD. I recommend you to buy this DVD. I recommend you to buy this DVD. I recommend you to buy this DVD. I recommend you to buy this DVD. I recommend you to buy this DVD. I recommend you to buy this DVD. I recommend you to buy this DVD. I recommend you to buy this DVD. I recommend you to buy this DVD. I recommend you to buy this DVD. I recommend you to buy this DVD. I recommend you to buy this DVD. I recommend you to buy this DVD. I recommend you to buy this DVD. I recommend you to buy this DVD. I recommend you to buy this DVD. I recommend you to buy this DVD. I recommend you to buy this DVD. I recommend you to buy this DVD. I recommend you to buy this DVD. I recommend you', 'open-calm-7b_fintan': ' ★★★★☆  特典ディスクが付いているので買いだと思います。僕の持っているDVDは一枚組ですけど特典映像で「メイキング(ヴィヴィアン・キューブリックによる音声解説)」が付いているので満足しています。このDVDにも付いているようです。撮影の舞台裏が見れるし主演のジャック・ニコルソン、妻を演じたシェリー・デュヴァル、息子役のダニー・ロイドのインタビューや撮影時の様子なんかを見ることができる貴重な映像だと思います。さらに他の特典も付いていて音声もポルトガル語が加わっているので羨ましい限りです(吹き替えの日本語が入っていないのが不思議)。 肝心な映画の内容は恐怖の原点にあるように感じられます。そして決して揺れないカメラワークでその恐怖を静かにあぶり出し、画面を引き裂くような音楽で爆発させる。さらに出演者たちの演技力の高さ。襲う側、襲われる側ともに120%と呼べる見事な演技。ジャック・ニコルソンの奇怪な演技は言うまでもなくシェリー・デュバルも襲われる恐怖をスクリーンに克明に映し出していました。ホラー映画として決して色あせない名作だと思います。 センチメント:   ★★★★☆  特典ディスクが付いているので買いだと思います。僕の持っているDVDは一枚組ですけど特典映像で「メイキング(ヴィヴィアン・キューブリックによる音声解説)」が付いているので満足しています。このDVDにも付いているようです。撮影の舞台裏が見れるし主演のジャック・ニコルソン、妻を演じたシェリー・デュヴァル、息子役のダニー・ロイドのインタビューや撮影時の様子なんかを見ることができる貴重な映像だと思います。さらに他の特典も付いていて音声もポルトガル語が加わっているので羨ましい限りです(吹き替えの日本語が入っていないのが不思議)。 肝心な映画の内容は恐怖の原点にあるように感じられます。そして決して揺れないカメラワークでその恐怖を静かにあぶり出し、画面を引き裂くような音楽で爆発させる。さらに出演者たちの演技力の高さ。襲う側、襲われる側ともに120%と呼べる見事な演技。ジャック・ニコルソンの奇怪な演技は言うまでもなくシェリー・デュバルも襲われる恐怖をスクリーンに克明に映し出していました。ホラー映画として決して色あせない名作だと思います。 センチメント:   ★★★★☆  特典ディスクが付いているので買いだと思います。僕の持っているDVDは一枚組ですけど特典映像で「メイキング(ヴィヴィアン・キューブリックによる音声解説)」が付いているので満足しています。このDVDにも付いているようです。撮影の舞台裏が見れるし主演のジャック・ニコルソン、妻を演じたシェリー・デュヴァル、息子役のダニー・ロイドのインタビューや撮影時の様子なんかを見ることができる貴重な映像だと思います。さらに他の特典も付いていて音声も', 'open-calm-7b_andrew': ' 特典ディスクが付いているので買いだと思います。僕の持ってるDVDは一枚組ですけど特典映像で「メイキング(ヴィヴィアン・キューブリックによる音声解説)」が付いているので満足しています。このDVDにも付いているようです。撮影の舞台裏が見れるし主演のジャック・ニコルソン、妻を演じたシェリー・デュヴァル、息子役のダニー・ロイドのインタビューや撮影時の様子なんかを見ることができる貴重な映像だと思います。さらに他の特典も付いていて音声もポルトガル語が加わっているので羨ましい限りです(吹き替えの日本語が入っていないのが不思議)。 肝心な映画の内容は恐怖の原点にあるように感じられます。そして決して揺れないカメラワークでその恐怖を静かにあぶり出し、画面を引き裂くような音楽で爆発させる。さらに出演者たちの演技力の高さ。襲う側、襲われる側ともに120%と呼べる見事な演技。ジャック・ニコルソンの奇怪な演技は言うまでもなくシェリー・デュバルも襲われる恐怖をスクリーンに克明に映し出していました。ホラー映画として決して色あせない名作だと思います。\\n```\\nSentiment:\\n     特典ディスクが付いているので買いだと思います。僕の持ってるDVDは一枚組ですけど特典映像で「メイキング(ヴィヴィアン・キューブリックによる音声解説)」が付いているので満足しています。このDVDにも付いているようです。撮影の舞台裏が見れるし主演のジャック・ニコルソン、妻を演じたシェリー・デュヴァル、息子役のダニー・ロイドのインタビューや撮影時の様子なんかを見ることができる貴重な映像だと思います。さらに他の特典も付いていて音声もポルトガル語が加わっているので羨ましい限りです(吹き替えの日本語が入っていないのが不思議)。 肝心な映画の内容は恐怖の原点にあるように感じられます。そして決して揺れないカメラワークでその恐怖を静かにあぶり出し、画面を引き裂くような音楽で爆発させる。さらに出演者たちの演技力の高さ。襲う側、襲われる側ともに120%と呼べる見事な演技。ジャック・ニコルソンの奇怪な演技は言うまでもなくシェリー・デュバルも襲われる恐怖をスクリーンに克明に映し出していました。ホラー映画として決して色あせない名作だと思います。\\n```\\nSentiment:\\n     特典ディスクが付いているので買いだと思います。僕の持ってるDVDは一枚組ですけど特典映像で「メイキング(ヴィヴィアン・キューブリックによる音声解説)」が付いているので満足しています。このDVDにも付いているようです。撮影の舞台裏が見れるし主演のジャック・ニコルソン、妻を演じたシェリー・デュヴァル、息子役のダニー・ロイドのインタビューや撮影時の様子なんかを見ることができる貴重な映像だと思います。さらに他の特典も付いていて', 'rinna-japanese-gpt-neox-3.6b_Zhong': ' sentence positive or negative. この質問は、映画を観た後に、その映画を観た感想を述べるものです。 この質問は、映画を観た後に、その映画を観た感想を述べるものです。 この質問は、映画を観た後に、その映画を観た感想を述べるものです。 この質問は、映画を観た後に、その映画を観た感想を述べるものです。 この質問は、映画を観た後に、その映画を観た感想を述べるものです。 この質問は、映画を観た後に、その映画を観た感想を述べるものです。 この質問は、映画を観た後に、その映画を観た感想を述べるものです。 この質問は、映画を観た後に、その映画を観た感想を述べるものです。 この質問は、映画を観た後に、その映画を観た感想を述べるものです。 この質問は、映画を観た後に、その映画を観た感想を述べるものです。 この質問は、映画を観た後に、その映画を観た感想を述べるものです。 この質問は、映画を観た後に、その映画を観た感想を述べるものです。 この質問は、映画を観た後に、その映画を観た感想を述べるものです。 この質問は、映画を観た後に、その映画を観た感想を述べるものです。 この質問は、映画を観た後に、その映画を観た感想を述べるものです。 この質問は、映画を観た後に、その映画を観た感想を述べるものです。 この質問は、映画を観た後に、その映画を観た感想を述べるものです。 この質問は、映画を観た後に、その映画を観た感想を述べるものです。 この質問は、映画を観た後に、その映画を観た感想を述べるものです。 この質問は、映画を観た後に、その映画を観た感想を述べるものです。 この質問は、映画を観た後に、その映画を観た感想を述べるものです。 この質問は、映画を観た後に、その映画を観た', 'rinna-japanese-gpt-neox-3.6b_fintan': '特典ディスクが付いていて、メイキングやインタビュー、撮影時の裏話などが収録されています。特典ディスクは本編ディスクとは別のケースに入っています。特典ディスクは本編ディスクと内容が重複しているので、特典ディスクは本編ディスクに付属している方がいいと思います。 特典ディスクの内容は本編ディスクに付属している方がいいと思います。特典ディスクは本編ディスクと内容が重複しているので、特典ディスクは本編ディスクに付属している方がいいと思います。 特典ディスクは本編ディスクと内容が重複しているので、特典ディスクは本編ディスクに付属している方がいいと思います。 特典ディスクは本編ディスクと内容が重複しているので、特典ディスクは本編ディスクに付属している方がいいと思います。 特典ディスクは本編ディスクと内容が重複しているので、特典ディスクは本編ディスクに付属している方がいいと思います。 特典ディスクは本編ディスクと内容が重複しているので、特典ディスクは本編ディスクに付属している方がいいと思います。 特典ディスクは本編ディスクと内容が重複しているので、特典ディスクは本編ディスクに付属している方がいいと思います。 特典ディスクは本編ディスクと内容が重複しているので、特典ディスクは本編ディスクに付属している方がいいと思います。 特典ディスクは本編ディスクと内容が重複しているので、特典ディスクは本編ディスクに付属している方がいいと思います。 特典ディスクは本編ディスクと内容が重複しているので、特典ディスクは本編ディスクに付属している方がいいと思います。 特典ディスクは本編ディスクと内容が重複しているので、特典ディスクは本編ディスクに付属している方がいいと思います。 特典ディスクは本編ディスクと内容が重複しているので、特典ディスクは本編ディスクに付属している方がいいと思います。 特典ディスクは本編ディスクと内容が重複しているので、特典ディスクは本編ディスクに付属している方がいいと思います。 特典ディスクは本編ディスクと内容が重複しているので、特典ディスクは本編ディスクに付属している方がいいと思います。 特典ディスクは本編ディスクと内容が重複しているので、特典ディスクは本編ディスクに付属している方がいいと思います。 特典ディスクは本編ディスクと内容が重複しているので、特典ディスクは本編ディスクに付属している方がいいと思います。 特典ディスクは本編ディスクと内容が重複しているので、特典ディスクは本編ディスクに付属している方がいいと思います。 特典ディスクは本編ディスクと内容が重複している', 'rinna-japanese-gpt-neox-3.6b_andrew': '', 'rinna-japanese-gpt-neox-3.6b-instruction-sft_Zhong': 'positive</s>', 'rinna-japanese-gpt-neox-3.6b-instruction-sft_fintan': 'positive</s>', 'rinna-japanese-gpt-neox-3.6b-instruction-sft_andrew': 'positive</s>'}, {'sentence': '素晴らしいカードです。エジプト、ユダヤ、カバラ、キリスト教……といった文化の融合から生まれてきた通常のタロットカードは、おのずと記号や数字の意味などもその世界観に由来します。こちらは、同じ数や同じ記号をモチーフにしつつも、解釈が仏教的、つまり、ある現象を陰にも陽にも転ずるのはその人次第である……という点が、オリジナルのタロットの持つ強迫感を取り払い、泰然自若としたリーディングを可能とします。そもそも私がこのカードを知ったのはキリスト教徒のイギリス人たちからでしたが、生まれたときから東洋的思想下で育ってきた私にとっては最初からなじみ深く、手になじんで10年となります。カードが示した象徴をどう解釈するかが、自分自身のインサイトそのものであり、占いの本質であると思います。深い事象の流れを知りたいときは、必ず手にするカードです。', 'label': 'positive', 'review_id': 'RRY8KZHSDWMYL', 'ChatGPT-3.5-Turbo_Zhong': 'positive.', 'ChatGPT-3.5-Turbo_fintan': 'positive', 'ChatGPT-3.5-Turbo_andrew': 'positive', 'open-calm-7b_Zhong': 'ive) is: \"This card is very popular. It was made in the same symbols, numbers, and the same symbols, but the symbols of the card show the meaning of the symbols of the same symbols. This card is the same symbols, but the symbols of the same symbols, which is the symbol of the same symbols, which is the symbol of the same symbols, which is the symbol of the same symbols, which is the symbol of the same symbols, which is the symbol of the same symbols, which is the symbol of the same symbols, which is the symbol of the same symbols, which is the symbol of the same symbols, which is the symbol of the symbol of the symbol of the symbol of the symbol of the symbol of the symbol of the symbol of the symbol of the symbol of the symbol of the symbol of the symbol of the symbol of the symbol of the symbol of the symbol of the symbol of the symbol of the symbol of the symbol of the symbol of the symbol of the symbol of the symbol of the symbol of the symbol of the symbol of the symbol of the symbol of the symbol of the symbol of the symbol of the symbol of the symbol of the symbol of the symbol of the symbol of the symbol of the symbol of the symbol of the symbol of the symbol of the symbol of the symbol of the symbol of the symbol of the symbol of the symbol of the symbol of the symbol of the symbol of the symbol of the symbol of the symbol of the symbol of the symbol of the symbol of the symbol of the s', 'open-calm-7b_fintan': 'ンチメント:   ★★★★☆  直感的に、このカードには、自分の中の深い部分から、今、必要なメッセージが、直感的に、そして、ダイレクトに、出てくるカードだと思います。  インスピレーション: ★★★★☆  インスピレーションは、自分の中の深い部分から、今、必要なメッセージが、直感的に、そして、ダイレクトに出てくるカードだと思います。  インスピレーション: ★★★★☆  インスピレーションは、自分の中の深い部分から、今、必要なメッセージが、直感的に、そして、ダイレクトに出てくるカードだと思います。  インスピレーション: ★★★★☆  インスピレーションは、自分の中の深い部分から、今、必要なメッセージが、直感的に、そして、ダイレクトに出てくるカードだと思います。  インスピレーション: ★★★★☆  インスピレーションは、自分の中の深い部分から、今、必要なメッセージが、直感的に、そして、ダイレクトに出てくるカードだと思います。  インスピレーション: ★★★★☆  インスピレーションは、自分の中の深い部分から、今、必要なメッセージが、直感的に、そして、ダイレクトに出てくるカードだと思います。  インスピレーション: ★★★★☆  インスピレーションは、自分の中の深い部分から、今、必要なメッセージが、直感的に、そして、ダイレクトに出てくるカードだと思います。  インスピレーション: ★★★★☆  インスピレーションは、自分の中の深い部分から、今、必要なメッセージが、直感的に、そして、ダイレクトに出てくるカードだと思います。  インスピレーション: ★★★★☆  インスピレーションは、自分の中の深い部分から、今、必要なメッセージが、直感的に、そして、ダイレクトに出てくるカードだと思います。  インスピレーション: ★★★★☆  インスピレーションは、自分の中の深い部分から、今、必要なメッセージが、直感的に、そして、ダイレクトに出てくるカードだと思います。  インスピレーション: ★★★★☆  インスピレーションは、自分の中の深い部分から、今、必要なメッセージが、直感的に、そして、ダイレクトに出てくるカードだと思います。  インスピレーション: ★★★★☆  インスピレーションは、自分の中の深い部分から、今、必要なメッセージが、直感的に、そして、ダイレクトに出てくるカードだと思います。  インスピレーション: ★★★★☆  インスピレーションは、自分の中の深い部分から、今、必要なメッセージが、直感的に、そして、ダイレクトに出てくるカードだと思います。  インスピレーション: ★★★★☆  インスピレーションは、自分の中の深い部分から、今、必要なメッセージが、直感的に、そして、ダイレクトに出てくるカードだと思います。  インスピレーション: ★★★★☆  インスピレーションは、自分の中の深い部分から、今、必要なメッセージが、直感的に、そして、ダイレクトに出てくるカードだと思います。  インスピレーション: ★★★★☆  インスピレーションは、自分の中の深い', 'open-calm-7b_andrew': 'nt:\\n     ```\\npositive or negative\\n```\\nSentiment:\\n```\\nSentiment:\\n```\\nSentiment:\\n```\\nSentiment:\\n```\\nSentiment:\\n```\\nSentiment:\\n```\\nSentiment:\\n```\\nSentiment:\\n```\\nSentiment:\\n```\\nSentiment:\\n```\\nSentiment:\\n```\\nSentiment:\\n```\\nSentiment:\\n```\\nSentiment:\\n```\\nSentiment:\\n```\\nSentiment:\\n```\\nSentiment:\\n```\\nSentiment:\\n```\\nSentiment:\\n```\\nSentiment:\\n```\\nSentiment:\\n```\\nSentiment:\\n```\\nSentiment:\\n```\\nSentiment:\\n```\\nSentiment:\\n```\\nSentiment:\\n```\\nSentiment:\\n```\\nSentiment:\\n```\\nSentiment:\\n```\\nSentiment:\\n```\\nSentiment:\\n```\\nSentiment:\\n```\\nSentiment:\\n```\\nSentiment:\\n```\\nSentiment:\\n```\\nSentiment:\\n```\\nSentiment:\\n```\\nSentiment:\\n```\\nSentiment:\\n```\\nSentiment:\\n```\\nSentiment:\\n```\\nSentiment:\\n```\\nSentiment:\\n```\\nSentiment:\\n```\\nSentiment:\\n```\\nSentiment:\\n```\\nSentiment:\\n```\\nSentiment:\\n```\\nSentiment:\\n```\\nSentiment:\\n`', 'rinna-japanese-gpt-neox-3.6b_Zhong': 'ive) is: \"このカードは、あなたが今、直面している状況を、ポジティブにもネガティブにも解釈できるカードです。\" このカードは、あなたが今、直面している状況を、ポジティブにもネガティブにも解釈できるカードです。 このカードは、あなたが今、直面している状況を、ポジティブにもネガティブにも解釈できるカードです。 このカードは、あなたが今、直面している状況を、ポジティブにもネガティブにも解釈できるカードです。 このカードは、あなたが今、直面している状況を、ポジティブにもネガティブにも解釈できるカードです。 このカードは、あなたが今、直面している状況を、ポジティブにもネガティブにも解釈できるカードです。 このカードは、あなたが今、直面している状況を、ポジティブにもネガティブにも解釈できるカードです。 このカードは、あなたが今、直面している状況を、ポジティブにもネガティブにも解釈できるカードです。 このカードは、あなたが今、直面している状況を、ポジティブにもネガティブにも解釈できるカードです。 このカードは、あなたが今、直面している状況を、ポジティブにもネガティブにも解釈できるカードです。 このカードは、あなたが今、直面している状況を、ポジティブにもネガティブにも解釈できるカードです。 このカードは、あなたが今、直面している状況を、ポジティブにもネガティブにも解釈できるカードです。 このカードは、あなたが今、直面している状況を、ポジティブにもネガティブにも解釈できるカードです。 このカードは、あなたが今、直面している状況を、ポジティブにもネガティブにも解釈できるカードです。 このカードは、あなたが今、直面している状況を、ポジティブにもネガティブにも解釈できるカードです。 このカードは、あなたが今、直面している状況を、ポジティブにもネガティブにも解釈できるカードです。 このカードは、あなたが今、直面している状況を、ポジティブにもネガティブにも解釈できるカードです。 このカードは、あなたが今、直面している状況を、ポジティブにもネガティブにも解釈できるカードです。 このカードは、あなたが', 'rinna-japanese-gpt-neox-3.6b_fintan': 'ンチメント:', 'rinna-japanese-gpt-neox-3.6b_andrew': 'nt:', 'rinna-japanese-gpt-neox-3.6b-instruction-sft_Zhong': 'positive</s>', 'rinna-japanese-gpt-neox-3.6b-instruction-sft_fintan': 'ポジティブ</s>', 'rinna-japanese-gpt-neox-3.6b-instruction-sft_andrew': 'ポジティブ</s>'}]\n"
     ]
    }
   ],
   "source": [
    "import pandas as pd\n",
    "import pickle\n",
    "with open('result.pkl', 'rb') as f:\n",
    "    loaded_result = pickle.load(f)\n",
    "\n",
    "print(loaded_result)\n"
   ]
  },
  {
   "cell_type": "code",
   "execution_count": 7,
   "metadata": {},
   "outputs": [],
   "source": [
    "df = pd.DataFrame(loaded_result)\n"
   ]
  },
  {
   "cell_type": "code",
   "execution_count": 8,
   "metadata": {},
   "outputs": [
    {
     "data": {
      "text/html": [
       "<div>\n",
       "<style scoped>\n",
       "    .dataframe tbody tr th:only-of-type {\n",
       "        vertical-align: middle;\n",
       "    }\n",
       "\n",
       "    .dataframe tbody tr th {\n",
       "        vertical-align: top;\n",
       "    }\n",
       "\n",
       "    .dataframe thead th {\n",
       "        text-align: right;\n",
       "    }\n",
       "</style>\n",
       "<table border=\"1\" class=\"dataframe\">\n",
       "  <thead>\n",
       "    <tr style=\"text-align: right;\">\n",
       "      <th></th>\n",
       "      <th>sentence</th>\n",
       "      <th>label</th>\n",
       "      <th>review_id</th>\n",
       "      <th>ChatGPT-3.5-Turbo_Zhong</th>\n",
       "      <th>ChatGPT-3.5-Turbo_fintan</th>\n",
       "      <th>ChatGPT-3.5-Turbo_andrew</th>\n",
       "      <th>open-calm-7b_Zhong</th>\n",
       "      <th>open-calm-7b_fintan</th>\n",
       "      <th>open-calm-7b_andrew</th>\n",
       "      <th>rinna-japanese-gpt-neox-3.6b_Zhong</th>\n",
       "      <th>rinna-japanese-gpt-neox-3.6b_fintan</th>\n",
       "      <th>rinna-japanese-gpt-neox-3.6b_andrew</th>\n",
       "      <th>rinna-japanese-gpt-neox-3.6b-instruction-sft_Zhong</th>\n",
       "      <th>rinna-japanese-gpt-neox-3.6b-instruction-sft_fintan</th>\n",
       "      <th>rinna-japanese-gpt-neox-3.6b-instruction-sft_andrew</th>\n",
       "    </tr>\n",
       "  </thead>\n",
       "  <tbody>\n",
       "    <tr>\n",
       "      <th>0</th>\n",
       "      <td>購入するほどのものではなかったように思います。レンタルで見ましたが、「聖なる予言」の復習は出...</td>\n",
       "      <td>positive</td>\n",
       "      <td>R2MV62E8RAJ4X8</td>\n",
       "      <td>neutral.</td>\n",
       "      <td>negative</td>\n",
       "      <td>negative</td>\n",
       "      <td>\"I read the book which was on the rental but ...</td>\n",
       "      <td>★★★★☆  内容:   ★★★★☆  内容:   ★★★★☆  内容:   ★★★★☆ ...</td>\n",
       "      <td>```\\npositive or negative\\n```\\nSentiment:\\n`...</td>\n",
       "      <td>an answer an answer an answer an answer an an...</td>\n",
       "      <td>@ このDVDは、ヤングスーパーマンの復習には最適でした。ヤングスーパーマンのシーズン1のD...</td>\n",
       "      <td></td>\n",
       "      <td>positive&lt;/s&gt;</td>\n",
       "      <td>ネガティブ&lt;/s&gt;</td>\n",
       "      <td>ポジティブ&lt;/s&gt;</td>\n",
       "    </tr>\n",
       "    <tr>\n",
       "      <th>1</th>\n",
       "      <td>特典ディスクが付いているので買いだと思います。僕の持ってるDVDは一枚組ですけど特典映像で...</td>\n",
       "      <td>positive</td>\n",
       "      <td>R24S7IQZ4ICJMG</td>\n",
       "      <td>positive.</td>\n",
       "      <td>positive</td>\n",
       "      <td>positive</td>\n",
       "      <td>\" I recommend you to buy this DVD. I recommen...</td>\n",
       "      <td>★★★★☆  特典ディスクが付いているので買いだと思います。僕の持っているDVDは一枚組で...</td>\n",
       "      <td>特典ディスクが付いているので買いだと思います。僕の持ってるDVDは一枚組ですけど特典映像で...</td>\n",
       "      <td>sentence positive or negative. この質問は、映画を観た後に、...</td>\n",
       "      <td>特典ディスクが付いていて、メイキングやインタビュー、撮影時の裏話などが収録されています。特典...</td>\n",
       "      <td></td>\n",
       "      <td>positive&lt;/s&gt;</td>\n",
       "      <td>positive&lt;/s&gt;</td>\n",
       "      <td>positive&lt;/s&gt;</td>\n",
       "    </tr>\n",
       "    <tr>\n",
       "      <th>2</th>\n",
       "      <td>素晴らしいカードです。エジプト、ユダヤ、カバラ、キリスト教……といった文化の融合から生まれて...</td>\n",
       "      <td>positive</td>\n",
       "      <td>RRY8KZHSDWMYL</td>\n",
       "      <td>positive.</td>\n",
       "      <td>positive</td>\n",
       "      <td>positive</td>\n",
       "      <td>ive) is: \"This card is very popular. It was ma...</td>\n",
       "      <td>ンチメント:   ★★★★☆  直感的に、このカードには、自分の中の深い部分から、今、必要な...</td>\n",
       "      <td>nt:\\n     ```\\npositive or negative\\n```\\nSent...</td>\n",
       "      <td>ive) is: \"このカードは、あなたが今、直面している状況を、ポジティブにもネガティブに...</td>\n",
       "      <td>ンチメント:</td>\n",
       "      <td>nt:</td>\n",
       "      <td>positive&lt;/s&gt;</td>\n",
       "      <td>ポジティブ&lt;/s&gt;</td>\n",
       "      <td>ポジティブ&lt;/s&gt;</td>\n",
       "    </tr>\n",
       "  </tbody>\n",
       "</table>\n",
       "</div>"
      ],
      "text/plain": [
       "                                            sentence     label  \\\n",
       "0  購入するほどのものではなかったように思います。レンタルで見ましたが、「聖なる予言」の復習は出...  positive   \n",
       "1  　特典ディスクが付いているので買いだと思います。僕の持ってるDVDは一枚組ですけど特典映像で...  positive   \n",
       "2  素晴らしいカードです。エジプト、ユダヤ、カバラ、キリスト教……といった文化の融合から生まれて...  positive   \n",
       "\n",
       "        review_id ChatGPT-3.5-Turbo_Zhong ChatGPT-3.5-Turbo_fintan  \\\n",
       "0  R2MV62E8RAJ4X8                neutral.                 negative   \n",
       "1  R24S7IQZ4ICJMG               positive.                 positive   \n",
       "2   RRY8KZHSDWMYL               positive.                 positive   \n",
       "\n",
       "  ChatGPT-3.5-Turbo_andrew                                 open-calm-7b_Zhong  \\\n",
       "0                 negative   \"I read the book which was on the rental but ...   \n",
       "1                 positive   \" I recommend you to buy this DVD. I recommen...   \n",
       "2                 positive  ive) is: \"This card is very popular. It was ma...   \n",
       "\n",
       "                                 open-calm-7b_fintan  \\\n",
       "0   ★★★★☆  内容:   ★★★★☆  内容:   ★★★★☆  内容:   ★★★★☆ ...   \n",
       "1   ★★★★☆  特典ディスクが付いているので買いだと思います。僕の持っているDVDは一枚組で...   \n",
       "2  ンチメント:   ★★★★☆  直感的に、このカードには、自分の中の深い部分から、今、必要な...   \n",
       "\n",
       "                                 open-calm-7b_andrew  \\\n",
       "0   ```\\npositive or negative\\n```\\nSentiment:\\n`...   \n",
       "1   特典ディスクが付いているので買いだと思います。僕の持ってるDVDは一枚組ですけど特典映像で...   \n",
       "2  nt:\\n     ```\\npositive or negative\\n```\\nSent...   \n",
       "\n",
       "                  rinna-japanese-gpt-neox-3.6b_Zhong  \\\n",
       "0   an answer an answer an answer an answer an an...   \n",
       "1   sentence positive or negative. この質問は、映画を観た後に、...   \n",
       "2  ive) is: \"このカードは、あなたが今、直面している状況を、ポジティブにもネガティブに...   \n",
       "\n",
       "                 rinna-japanese-gpt-neox-3.6b_fintan  \\\n",
       "0  @ このDVDは、ヤングスーパーマンの復習には最適でした。ヤングスーパーマンのシーズン1のD...   \n",
       "1  特典ディスクが付いていて、メイキングやインタビュー、撮影時の裏話などが収録されています。特典...   \n",
       "2                                             ンチメント:   \n",
       "\n",
       "  rinna-japanese-gpt-neox-3.6b_andrew  \\\n",
       "0                                       \n",
       "1                                       \n",
       "2                                 nt:   \n",
       "\n",
       "  rinna-japanese-gpt-neox-3.6b-instruction-sft_Zhong  \\\n",
       "0                                       positive</s>   \n",
       "1                                       positive</s>   \n",
       "2                                       positive</s>   \n",
       "\n",
       "  rinna-japanese-gpt-neox-3.6b-instruction-sft_fintan  \\\n",
       "0                                          ネガティブ</s>    \n",
       "1                                       positive</s>    \n",
       "2                                          ポジティブ</s>    \n",
       "\n",
       "  rinna-japanese-gpt-neox-3.6b-instruction-sft_andrew  \n",
       "0                                          ポジティブ</s>   \n",
       "1                                       positive</s>   \n",
       "2                                          ポジティブ</s>   "
      ]
     },
     "execution_count": 8,
     "metadata": {},
     "output_type": "execute_result"
    }
   ],
   "source": [
    "df"
   ]
  },
  {
   "cell_type": "code",
   "execution_count": null,
   "metadata": {},
   "outputs": [],
   "source": []
  }
 ],
 "metadata": {
  "kernelspec": {
   "display_name": "Python 3",
   "language": "python",
   "name": "python3"
  },
  "language_info": {
   "codemirror_mode": {
    "name": "ipython",
    "version": 3
   },
   "file_extension": ".py",
   "mimetype": "text/x-python",
   "name": "python",
   "nbconvert_exporter": "python",
   "pygments_lexer": "ipython3",
   "version": "3.8.10"
  },
  "orig_nbformat": 4
 },
 "nbformat": 4,
 "nbformat_minor": 2
}
